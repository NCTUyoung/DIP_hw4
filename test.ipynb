{
 "cells": [
  {
   "cell_type": "code",
   "execution_count": 38,
   "metadata": {
    "collapsed": false
   },
   "outputs": [],
   "source": [
    "%matplotlib inline\n",
    "import PIL as PIL\n",
    "import numpy as np\n",
    "import matplotlib.pyplot as plt\n",
    "\n",
    "im = PIL.Image.open('input3.bmp')\n",
    "im = np.array(im)\n",
    "im_ori = PIL.Image.open('input3_ori.bmp')\n",
    "im_ori = np.array(im_ori)\n",
    "im_test = PIL.Image.open('output3.bmp')\n",
    "im_test = np.array(im_test)"
   ]
  },
  {
   "cell_type": "code",
   "execution_count": 39,
   "metadata": {
    "collapsed": false
   },
   "outputs": [
    {
     "name": "stdout",
     "output_type": "stream",
     "text": [
      "68.3431351833\n",
      "58.8278298085\n"
     ]
    },
    {
     "data": {
      "text/plain": [
       "58.827829808452535"
      ]
     },
     "execution_count": 39,
     "metadata": {},
     "output_type": "execute_result"
    }
   ],
   "source": [
    "def psnr(im1,im2):\n",
    "    psnr = 0.0\n",
    "    \n",
    "    for i in range(3):\n",
    "        diff = np.abs(im1[:,:,i] - im2[:,:,i])\n",
    "        rmse = np.square(diff).sum()/(im2.shape[0]*im2.shape[1])\n",
    "        psnr += 10*np.log10(255.0*255.0/rmse)\n",
    "    print(psnr)\n",
    "    return psnr\n",
    "\n",
    "psnr(im_test.astype(np.float64),im_ori.astype(np.float64))\n",
    "psnr(im.astype(np.float64),im_ori.astype(np.float64))"
   ]
  },
  {
   "cell_type": "code",
   "execution_count": null,
   "metadata": {
    "collapsed": true
   },
   "outputs": [],
   "source": []
  }
 ],
 "metadata": {
  "kernelspec": {
   "display_name": "Python 3",
   "language": "python",
   "name": "python3"
  },
  "language_info": {
   "codemirror_mode": {
    "name": "ipython",
    "version": 3
   },
   "file_extension": ".py",
   "mimetype": "text/x-python",
   "name": "python",
   "nbconvert_exporter": "python",
   "pygments_lexer": "ipython3",
   "version": "3.6.0"
  }
 },
 "nbformat": 4,
 "nbformat_minor": 2
}
